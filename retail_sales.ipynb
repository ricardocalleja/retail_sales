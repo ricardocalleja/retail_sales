{
 "cells": [
  {
   "cell_type": "markdown",
   "metadata": {},
   "source": [
    "## Import Data"
   ]
  },
  {
   "cell_type": "markdown",
   "metadata": {},
   "source": [
    "## Import Retail Sales data 2018-2021"
   ]
  },
  {
   "cell_type": "code",
   "execution_count": 65,
   "metadata": {},
   "outputs": [],
   "source": [
    "import pandas as pd\n",
    "import matplotlib.pyplot as plt\n",
    "import seaborn as sns\n",
    "%matplotlib inline\n",
    "from datetime import datetime\n",
    "df= pd.read_csv(r\"C:\\Users\\rc_sh\\OneDrive\\Escritorio\\AI\\Machine_Learning\\Adidas\\CLHO_sales_data\\Sales_detail_report\\sales_detail_report.csv\", delimiter=\";\")"
   ]
  },
  {
   "cell_type": "code",
   "execution_count": 66,
   "metadata": {},
   "outputs": [
    {
     "data": {
      "text/html": [
       "<div>\n",
       "<style scoped>\n",
       "    .dataframe tbody tr th:only-of-type {\n",
       "        vertical-align: middle;\n",
       "    }\n",
       "\n",
       "    .dataframe tbody tr th {\n",
       "        vertical-align: top;\n",
       "    }\n",
       "\n",
       "    .dataframe thead th {\n",
       "        text-align: right;\n",
       "    }\n",
       "</style>\n",
       "<table border=\"1\" class=\"dataframe\">\n",
       "  <thead>\n",
       "    <tr style=\"text-align: right;\">\n",
       "      <th></th>\n",
       "      <th>Store No.</th>\n",
       "      <th>POS Terminal No.</th>\n",
       "      <th>Transaction No.</th>\n",
       "      <th>Date</th>\n",
       "      <th>Shifted Date</th>\n",
       "      <th>VAT %</th>\n",
       "      <th>Area HO Currency Code</th>\n",
       "      <th>Net Amount</th>\n",
       "      <th>VAT Amount</th>\n",
       "      <th>Item No.</th>\n",
       "      <th>Size Description</th>\n",
       "    </tr>\n",
       "  </thead>\n",
       "  <tbody>\n",
       "    <tr>\n",
       "      <th>0</th>\n",
       "      <td>CL104</td>\n",
       "      <td>CL10401</td>\n",
       "      <td>180560</td>\n",
       "      <td>01/02/18</td>\n",
       "      <td>nan</td>\n",
       "      <td>19</td>\n",
       "      <td>CLP</td>\n",
       "      <td>27,723.00</td>\n",
       "      <td>5,267.00</td>\n",
       "      <td>BY1610</td>\n",
       "      <td>8</td>\n",
       "    </tr>\n",
       "    <tr>\n",
       "      <th>1</th>\n",
       "      <td>CL104</td>\n",
       "      <td>CL10401</td>\n",
       "      <td>180563</td>\n",
       "      <td>01/02/18</td>\n",
       "      <td>nan</td>\n",
       "      <td>19</td>\n",
       "      <td>CLP</td>\n",
       "      <td>-52,933.00</td>\n",
       "      <td>-10,057.00</td>\n",
       "      <td>BA8899</td>\n",
       "      <td>9-</td>\n",
       "    </tr>\n",
       "    <tr>\n",
       "      <th>2</th>\n",
       "      <td>CL104</td>\n",
       "      <td>CL10401</td>\n",
       "      <td>180564</td>\n",
       "      <td>01/02/18</td>\n",
       "      <td>nan</td>\n",
       "      <td>19</td>\n",
       "      <td>CLP</td>\n",
       "      <td>52,933.00</td>\n",
       "      <td>10,057.00</td>\n",
       "      <td>BA8899</td>\n",
       "      <td>8-</td>\n",
       "    </tr>\n",
       "    <tr>\n",
       "      <th>3</th>\n",
       "      <td>CL104</td>\n",
       "      <td>CL10401</td>\n",
       "      <td>180569</td>\n",
       "      <td>01/02/18</td>\n",
       "      <td>nan</td>\n",
       "      <td>19</td>\n",
       "      <td>CLP</td>\n",
       "      <td>13,437.00</td>\n",
       "      <td>2,553.00</td>\n",
       "      <td>BQ0759</td>\n",
       "      <td>XL</td>\n",
       "    </tr>\n",
       "    <tr>\n",
       "      <th>4</th>\n",
       "      <td>CL104</td>\n",
       "      <td>CL10401</td>\n",
       "      <td>180570</td>\n",
       "      <td>01/02/18</td>\n",
       "      <td>nan</td>\n",
       "      <td>19</td>\n",
       "      <td>CLP</td>\n",
       "      <td>39,487.00</td>\n",
       "      <td>7,503.00</td>\n",
       "      <td>BQ4533</td>\n",
       "      <td>XL</td>\n",
       "    </tr>\n",
       "    <tr>\n",
       "      <th>...</th>\n",
       "      <td>...</td>\n",
       "      <td>...</td>\n",
       "      <td>...</td>\n",
       "      <td>...</td>\n",
       "      <td>...</td>\n",
       "      <td>...</td>\n",
       "      <td>...</td>\n",
       "      <td>...</td>\n",
       "      <td>...</td>\n",
       "      <td>...</td>\n",
       "      <td>...</td>\n",
       "    </tr>\n",
       "    <tr>\n",
       "      <th>11793723</th>\n",
       "      <td>CL910</td>\n",
       "      <td>CL91003</td>\n",
       "      <td>21778</td>\n",
       "      <td>12/31/21</td>\n",
       "      <td>nan</td>\n",
       "      <td>19</td>\n",
       "      <td>CLP</td>\n",
       "      <td>252.00</td>\n",
       "      <td>48.00</td>\n",
       "      <td>S49975</td>\n",
       "      <td>NS</td>\n",
       "    </tr>\n",
       "    <tr>\n",
       "      <th>11793724</th>\n",
       "      <td>CL910</td>\n",
       "      <td>CL91003</td>\n",
       "      <td>21779</td>\n",
       "      <td>12/31/21</td>\n",
       "      <td>nan</td>\n",
       "      <td>19</td>\n",
       "      <td>CLP</td>\n",
       "      <td>25,202.00</td>\n",
       "      <td>4,788.00</td>\n",
       "      <td>GU1738</td>\n",
       "      <td>NS</td>\n",
       "    </tr>\n",
       "    <tr>\n",
       "      <th>11793725</th>\n",
       "      <td>CL910</td>\n",
       "      <td>CL91003</td>\n",
       "      <td>21779</td>\n",
       "      <td>12/31/21</td>\n",
       "      <td>nan</td>\n",
       "      <td>19</td>\n",
       "      <td>CLP</td>\n",
       "      <td>252.00</td>\n",
       "      <td>48.00</td>\n",
       "      <td>S49975</td>\n",
       "      <td>NS</td>\n",
       "    </tr>\n",
       "    <tr>\n",
       "      <th>11793726</th>\n",
       "      <td>CL910</td>\n",
       "      <td>CL91003</td>\n",
       "      <td>21780</td>\n",
       "      <td>12/31/21</td>\n",
       "      <td>nan</td>\n",
       "      <td>19</td>\n",
       "      <td>CLP</td>\n",
       "      <td>54,613.00</td>\n",
       "      <td>10,377.00</td>\n",
       "      <td>FX5118</td>\n",
       "      <td>9</td>\n",
       "    </tr>\n",
       "    <tr>\n",
       "      <th>11793727</th>\n",
       "      <td>CL910</td>\n",
       "      <td>CL91003</td>\n",
       "      <td>21781</td>\n",
       "      <td>12/31/21</td>\n",
       "      <td>nan</td>\n",
       "      <td>19</td>\n",
       "      <td>CLP</td>\n",
       "      <td>15,118.00</td>\n",
       "      <td>2,872.00</td>\n",
       "      <td>ED9606</td>\n",
       "      <td>M</td>\n",
       "    </tr>\n",
       "  </tbody>\n",
       "</table>\n",
       "<p>11793728 rows × 11 columns</p>\n",
       "</div>"
      ],
      "text/plain": [
       "         Store No. POS Terminal No.  Transaction No.      Date  Shifted Date  \\\n",
       "0            CL104          CL10401           180560  01/02/18           nan   \n",
       "1            CL104          CL10401           180563  01/02/18           nan   \n",
       "2            CL104          CL10401           180564  01/02/18           nan   \n",
       "3            CL104          CL10401           180569  01/02/18           nan   \n",
       "4            CL104          CL10401           180570  01/02/18           nan   \n",
       "...            ...              ...              ...       ...           ...   \n",
       "11793723     CL910          CL91003            21778  12/31/21           nan   \n",
       "11793724     CL910          CL91003            21779  12/31/21           nan   \n",
       "11793725     CL910          CL91003            21779  12/31/21           nan   \n",
       "11793726     CL910          CL91003            21780  12/31/21           nan   \n",
       "11793727     CL910          CL91003            21781  12/31/21           nan   \n",
       "\n",
       "          VAT % Area HO Currency Code  Net Amount  VAT Amount Item No.  \\\n",
       "0            19                   CLP   27,723.00    5,267.00   BY1610   \n",
       "1            19                   CLP  -52,933.00  -10,057.00   BA8899   \n",
       "2            19                   CLP   52,933.00   10,057.00   BA8899   \n",
       "3            19                   CLP   13,437.00    2,553.00   BQ0759   \n",
       "4            19                   CLP   39,487.00    7,503.00   BQ4533   \n",
       "...         ...                   ...         ...         ...      ...   \n",
       "11793723     19                   CLP      252.00       48.00   S49975   \n",
       "11793724     19                   CLP   25,202.00    4,788.00   GU1738   \n",
       "11793725     19                   CLP      252.00       48.00   S49975   \n",
       "11793726     19                   CLP   54,613.00   10,377.00   FX5118   \n",
       "11793727     19                   CLP   15,118.00    2,872.00   ED9606   \n",
       "\n",
       "         Size Description  \n",
       "0                       8  \n",
       "1                      9-  \n",
       "2                      8-  \n",
       "3                      XL  \n",
       "4                      XL  \n",
       "...                   ...  \n",
       "11793723               NS  \n",
       "11793724               NS  \n",
       "11793725               NS  \n",
       "11793726                9  \n",
       "11793727                M  \n",
       "\n",
       "[11793728 rows x 11 columns]"
      ]
     },
     "execution_count": 66,
     "metadata": {},
     "output_type": "execute_result"
    }
   ],
   "source": [
    "df #let's see what's inside our sales dataset"
   ]
  },
  {
   "cell_type": "code",
   "execution_count": 67,
   "metadata": {},
   "outputs": [
    {
     "name": "stdout",
     "output_type": "stream",
     "text": [
      "<class 'pandas.core.frame.DataFrame'>\n",
      "RangeIndex: 11793728 entries, 0 to 11793727\n",
      "Data columns (total 11 columns):\n",
      " #   Column                 Dtype  \n",
      "---  ------                 -----  \n",
      " 0   Store No.              object \n",
      " 1   POS Terminal No.       object \n",
      " 2   Transaction No.        int64  \n",
      " 3   Date                   object \n",
      " 4   Shifted Date           float64\n",
      " 5   VAT %                  int64  \n",
      " 6   Area HO Currency Code  object \n",
      " 7   Net Amount             object \n",
      " 8   VAT Amount             object \n",
      " 9   Item No.               object \n",
      " 10  Size Description       object \n",
      "dtypes: float64(1), int64(2), object(8)\n",
      "memory usage: 989.8+ MB\n"
     ]
    }
   ],
   "source": [
    "df.info()"
   ]
  },
  {
   "cell_type": "code",
   "execution_count": null,
   "metadata": {},
   "outputs": [],
   "source": []
  },
  {
   "cell_type": "code",
   "execution_count": 68,
   "metadata": {},
   "outputs": [
    {
     "data": {
      "text/plain": [
       "Index(['Store No.', 'POS Terminal No.', 'Transaction No.', 'Date',\n",
       "       'Shifted Date', 'VAT %', 'Area HO Currency Code', 'Net Amount',\n",
       "       'VAT Amount', 'Item No.', 'Size Description'],\n",
       "      dtype='object')"
      ]
     },
     "execution_count": 68,
     "metadata": {},
     "output_type": "execute_result"
    }
   ],
   "source": [
    "df.columns"
   ]
  },
  {
   "cell_type": "markdown",
   "metadata": {},
   "source": [
    "### Convert date to date object"
   ]
  },
  {
   "cell_type": "code",
   "execution_count": 69,
   "metadata": {},
   "outputs": [],
   "source": [
    "df['Date']= pd.to_datetime(df['Date'])"
   ]
  },
  {
   "cell_type": "code",
   "execution_count": 70,
   "metadata": {},
   "outputs": [
    {
     "data": {
      "text/plain": [
       "Store No.                        object\n",
       "POS Terminal No.                 object\n",
       "Transaction No.                   int64\n",
       "Date                     datetime64[ns]\n",
       "Shifted Date                    float64\n",
       "VAT %                             int64\n",
       "Area HO Currency Code            object\n",
       "Net Amount                       object\n",
       "VAT Amount                       object\n",
       "Item No.                         object\n",
       "Size Description                 object\n",
       "dtype: object"
      ]
     },
     "execution_count": 70,
     "metadata": {},
     "output_type": "execute_result"
    }
   ],
   "source": [
    "df.dtypes"
   ]
  },
  {
   "cell_type": "markdown",
   "metadata": {},
   "source": [
    "### Rename columns"
   ]
  },
  {
   "cell_type": "code",
   "execution_count": 71,
   "metadata": {},
   "outputs": [],
   "source": [
    "df.rename(columns={\"Store No.\":\"store\",\"POS Terminal No.\":\"pos\",\"Transaction No.\":\"transaction\",\"Date\":\"date\",\"Shifted Date\":\"shifted_date\",\"VAT %\":\"vat\",\"Area HO Currency Code\":\"currency\",\"Net Amount\":\"net_amount\",\"VAT Amount\":\"vat_amount\",\"Item No.\":\"item\",\"Size Description\":\"size\"}, inplace=True)"
   ]
  },
  {
   "cell_type": "code",
   "execution_count": 72,
   "metadata": {},
   "outputs": [],
   "source": [
    "df[\"transaction\"] = df[\"transaction\"].astype(str)"
   ]
  },
  {
   "cell_type": "code",
   "execution_count": 73,
   "metadata": {},
   "outputs": [],
   "source": [
    "#let's add a new column combining item SKU and article size\n",
    "\n",
    "df[\"item_size\"] =df[\"item\"] +\"_\"+ df[\"size\"]\n",
    "\n",
    "#let's add a new column combining item pos and transaction\n",
    "\n",
    "df[\"unique_transaction\"] =df[\"pos\"] +\"_\"+ df[\"transaction\"]"
   ]
  },
  {
   "cell_type": "code",
   "execution_count": 74,
   "metadata": {},
   "outputs": [
    {
     "data": {
      "text/plain": [
       "store                         object\n",
       "pos                           object\n",
       "transaction                   object\n",
       "date                  datetime64[ns]\n",
       "shifted_date                 float64\n",
       "vat                            int64\n",
       "currency                      object\n",
       "net_amount                    object\n",
       "vat_amount                    object\n",
       "item                          object\n",
       "size                          object\n",
       "item_size                     object\n",
       "unique_transaction            object\n",
       "dtype: object"
      ]
     },
     "execution_count": 74,
     "metadata": {},
     "output_type": "execute_result"
    }
   ],
   "source": [
    "df.dtypes"
   ]
  },
  {
   "cell_type": "code",
   "execution_count": 12,
   "metadata": {},
   "outputs": [
    {
     "data": {
      "text/html": [
       "<div>\n",
       "<style scoped>\n",
       "    .dataframe tbody tr th:only-of-type {\n",
       "        vertical-align: middle;\n",
       "    }\n",
       "\n",
       "    .dataframe tbody tr th {\n",
       "        vertical-align: top;\n",
       "    }\n",
       "\n",
       "    .dataframe thead th {\n",
       "        text-align: right;\n",
       "    }\n",
       "</style>\n",
       "<table border=\"1\" class=\"dataframe\">\n",
       "  <thead>\n",
       "    <tr style=\"text-align: right;\">\n",
       "      <th></th>\n",
       "      <th>store</th>\n",
       "      <th>pos</th>\n",
       "      <th>transaction</th>\n",
       "      <th>date</th>\n",
       "      <th>shifted_date</th>\n",
       "      <th>vat</th>\n",
       "      <th>currency</th>\n",
       "      <th>net_amount</th>\n",
       "      <th>vat_amount</th>\n",
       "      <th>item</th>\n",
       "      <th>size</th>\n",
       "      <th>item_size</th>\n",
       "      <th>unique_transaction</th>\n",
       "    </tr>\n",
       "  </thead>\n",
       "  <tbody>\n",
       "    <tr>\n",
       "      <th>0</th>\n",
       "      <td>CL104</td>\n",
       "      <td>CL10401</td>\n",
       "      <td>180560</td>\n",
       "      <td>2018-01-02</td>\n",
       "      <td>NaN</td>\n",
       "      <td>19</td>\n",
       "      <td>CLP</td>\n",
       "      <td>27,723.00</td>\n",
       "      <td>5,267.00</td>\n",
       "      <td>BY1610</td>\n",
       "      <td>8</td>\n",
       "      <td>BY1610_8</td>\n",
       "      <td>CL10401_180560</td>\n",
       "    </tr>\n",
       "    <tr>\n",
       "      <th>1</th>\n",
       "      <td>CL104</td>\n",
       "      <td>CL10401</td>\n",
       "      <td>180563</td>\n",
       "      <td>2018-01-02</td>\n",
       "      <td>NaN</td>\n",
       "      <td>19</td>\n",
       "      <td>CLP</td>\n",
       "      <td>-52,933.00</td>\n",
       "      <td>-10,057.00</td>\n",
       "      <td>BA8899</td>\n",
       "      <td>9-</td>\n",
       "      <td>BA8899_9-</td>\n",
       "      <td>CL10401_180563</td>\n",
       "    </tr>\n",
       "    <tr>\n",
       "      <th>2</th>\n",
       "      <td>CL104</td>\n",
       "      <td>CL10401</td>\n",
       "      <td>180564</td>\n",
       "      <td>2018-01-02</td>\n",
       "      <td>NaN</td>\n",
       "      <td>19</td>\n",
       "      <td>CLP</td>\n",
       "      <td>52,933.00</td>\n",
       "      <td>10,057.00</td>\n",
       "      <td>BA8899</td>\n",
       "      <td>8-</td>\n",
       "      <td>BA8899_8-</td>\n",
       "      <td>CL10401_180564</td>\n",
       "    </tr>\n",
       "    <tr>\n",
       "      <th>3</th>\n",
       "      <td>CL104</td>\n",
       "      <td>CL10401</td>\n",
       "      <td>180569</td>\n",
       "      <td>2018-01-02</td>\n",
       "      <td>NaN</td>\n",
       "      <td>19</td>\n",
       "      <td>CLP</td>\n",
       "      <td>13,437.00</td>\n",
       "      <td>2,553.00</td>\n",
       "      <td>BQ0759</td>\n",
       "      <td>XL</td>\n",
       "      <td>BQ0759_XL</td>\n",
       "      <td>CL10401_180569</td>\n",
       "    </tr>\n",
       "    <tr>\n",
       "      <th>4</th>\n",
       "      <td>CL104</td>\n",
       "      <td>CL10401</td>\n",
       "      <td>180570</td>\n",
       "      <td>2018-01-02</td>\n",
       "      <td>NaN</td>\n",
       "      <td>19</td>\n",
       "      <td>CLP</td>\n",
       "      <td>39,487.00</td>\n",
       "      <td>7,503.00</td>\n",
       "      <td>BQ4533</td>\n",
       "      <td>XL</td>\n",
       "      <td>BQ4533_XL</td>\n",
       "      <td>CL10401_180570</td>\n",
       "    </tr>\n",
       "    <tr>\n",
       "      <th>...</th>\n",
       "      <td>...</td>\n",
       "      <td>...</td>\n",
       "      <td>...</td>\n",
       "      <td>...</td>\n",
       "      <td>...</td>\n",
       "      <td>...</td>\n",
       "      <td>...</td>\n",
       "      <td>...</td>\n",
       "      <td>...</td>\n",
       "      <td>...</td>\n",
       "      <td>...</td>\n",
       "      <td>...</td>\n",
       "      <td>...</td>\n",
       "    </tr>\n",
       "    <tr>\n",
       "      <th>11793723</th>\n",
       "      <td>CL910</td>\n",
       "      <td>CL91003</td>\n",
       "      <td>21778</td>\n",
       "      <td>2021-12-31</td>\n",
       "      <td>NaN</td>\n",
       "      <td>19</td>\n",
       "      <td>CLP</td>\n",
       "      <td>252.00</td>\n",
       "      <td>48.00</td>\n",
       "      <td>S49975</td>\n",
       "      <td>NS</td>\n",
       "      <td>S49975_NS</td>\n",
       "      <td>CL91003_21778</td>\n",
       "    </tr>\n",
       "    <tr>\n",
       "      <th>11793724</th>\n",
       "      <td>CL910</td>\n",
       "      <td>CL91003</td>\n",
       "      <td>21779</td>\n",
       "      <td>2021-12-31</td>\n",
       "      <td>NaN</td>\n",
       "      <td>19</td>\n",
       "      <td>CLP</td>\n",
       "      <td>25,202.00</td>\n",
       "      <td>4,788.00</td>\n",
       "      <td>GU1738</td>\n",
       "      <td>NS</td>\n",
       "      <td>GU1738_NS</td>\n",
       "      <td>CL91003_21779</td>\n",
       "    </tr>\n",
       "    <tr>\n",
       "      <th>11793725</th>\n",
       "      <td>CL910</td>\n",
       "      <td>CL91003</td>\n",
       "      <td>21779</td>\n",
       "      <td>2021-12-31</td>\n",
       "      <td>NaN</td>\n",
       "      <td>19</td>\n",
       "      <td>CLP</td>\n",
       "      <td>252.00</td>\n",
       "      <td>48.00</td>\n",
       "      <td>S49975</td>\n",
       "      <td>NS</td>\n",
       "      <td>S49975_NS</td>\n",
       "      <td>CL91003_21779</td>\n",
       "    </tr>\n",
       "    <tr>\n",
       "      <th>11793726</th>\n",
       "      <td>CL910</td>\n",
       "      <td>CL91003</td>\n",
       "      <td>21780</td>\n",
       "      <td>2021-12-31</td>\n",
       "      <td>NaN</td>\n",
       "      <td>19</td>\n",
       "      <td>CLP</td>\n",
       "      <td>54,613.00</td>\n",
       "      <td>10,377.00</td>\n",
       "      <td>FX5118</td>\n",
       "      <td>9</td>\n",
       "      <td>FX5118_9</td>\n",
       "      <td>CL91003_21780</td>\n",
       "    </tr>\n",
       "    <tr>\n",
       "      <th>11793727</th>\n",
       "      <td>CL910</td>\n",
       "      <td>CL91003</td>\n",
       "      <td>21781</td>\n",
       "      <td>2021-12-31</td>\n",
       "      <td>NaN</td>\n",
       "      <td>19</td>\n",
       "      <td>CLP</td>\n",
       "      <td>15,118.00</td>\n",
       "      <td>2,872.00</td>\n",
       "      <td>ED9606</td>\n",
       "      <td>M</td>\n",
       "      <td>ED9606_M</td>\n",
       "      <td>CL91003_21781</td>\n",
       "    </tr>\n",
       "  </tbody>\n",
       "</table>\n",
       "<p>11793728 rows × 13 columns</p>\n",
       "</div>"
      ],
      "text/plain": [
       "          store      pos transaction       date  shifted_date  vat currency  \\\n",
       "0         CL104  CL10401      180560 2018-01-02           NaN   19      CLP   \n",
       "1         CL104  CL10401      180563 2018-01-02           NaN   19      CLP   \n",
       "2         CL104  CL10401      180564 2018-01-02           NaN   19      CLP   \n",
       "3         CL104  CL10401      180569 2018-01-02           NaN   19      CLP   \n",
       "4         CL104  CL10401      180570 2018-01-02           NaN   19      CLP   \n",
       "...         ...      ...         ...        ...           ...  ...      ...   \n",
       "11793723  CL910  CL91003       21778 2021-12-31           NaN   19      CLP   \n",
       "11793724  CL910  CL91003       21779 2021-12-31           NaN   19      CLP   \n",
       "11793725  CL910  CL91003       21779 2021-12-31           NaN   19      CLP   \n",
       "11793726  CL910  CL91003       21780 2021-12-31           NaN   19      CLP   \n",
       "11793727  CL910  CL91003       21781 2021-12-31           NaN   19      CLP   \n",
       "\n",
       "          net_amount  vat_amount    item size  item_size unique_transaction  \n",
       "0          27,723.00    5,267.00  BY1610    8   BY1610_8     CL10401_180560  \n",
       "1         -52,933.00  -10,057.00  BA8899   9-  BA8899_9-     CL10401_180563  \n",
       "2          52,933.00   10,057.00  BA8899   8-  BA8899_8-     CL10401_180564  \n",
       "3          13,437.00    2,553.00  BQ0759   XL  BQ0759_XL     CL10401_180569  \n",
       "4          39,487.00    7,503.00  BQ4533   XL  BQ4533_XL     CL10401_180570  \n",
       "...              ...         ...     ...  ...        ...                ...  \n",
       "11793723      252.00       48.00  S49975   NS  S49975_NS      CL91003_21778  \n",
       "11793724   25,202.00    4,788.00  GU1738   NS  GU1738_NS      CL91003_21779  \n",
       "11793725      252.00       48.00  S49975   NS  S49975_NS      CL91003_21779  \n",
       "11793726   54,613.00   10,377.00  FX5118    9   FX5118_9      CL91003_21780  \n",
       "11793727   15,118.00    2,872.00  ED9606    M   ED9606_M      CL91003_21781  \n",
       "\n",
       "[11793728 rows x 13 columns]"
      ]
     },
     "execution_count": 12,
     "metadata": {},
     "output_type": "execute_result"
    }
   ],
   "source": [
    "df"
   ]
  },
  {
   "cell_type": "code",
   "execution_count": 13,
   "metadata": {},
   "outputs": [
    {
     "data": {
      "text/plain": [
       "store                         object\n",
       "pos                           object\n",
       "transaction                   object\n",
       "date                  datetime64[ns]\n",
       "shifted_date                 float64\n",
       "vat                            int64\n",
       "currency                      object\n",
       "net_amount                    object\n",
       "vat_amount                    object\n",
       "item                          object\n",
       "size                          object\n",
       "item_size                     object\n",
       "unique_transaction            object\n",
       "dtype: object"
      ]
     },
     "execution_count": 13,
     "metadata": {},
     "output_type": "execute_result"
    }
   ],
   "source": [
    "df.dtypes"
   ]
  },
  {
   "cell_type": "code",
   "execution_count": 14,
   "metadata": {},
   "outputs": [
    {
     "data": {
      "text/plain": [
       "store                         object\n",
       "pos                           object\n",
       "transaction                   object\n",
       "date                  datetime64[ns]\n",
       "shifted_date                 float64\n",
       "vat                            int64\n",
       "currency                      object\n",
       "net_amount                   float64\n",
       "vat_amount                   float64\n",
       "item                          object\n",
       "size                          object\n",
       "item_size                     object\n",
       "unique_transaction            object\n",
       "dtype: object"
      ]
     },
     "execution_count": 14,
     "metadata": {},
     "output_type": "execute_result"
    }
   ],
   "source": [
    "#Lets delete the \",\" as a thousand separator\n",
    "df[\"net_amount\"] = [float(str(i).replace(\",\", \"\")) for i in df[\"net_amount\"]]\n",
    "df[\"vat_amount\"] = [float(str(i).replace(\",\", \"\")) for i in df[\"vat_amount\"]]\n",
    "#To convert columns into float\n",
    "df.astype({'net_amount': 'float'}).dtypes\n",
    "df.astype({'vat_amount': 'float'}).dtypes"
   ]
  },
  {
   "cell_type": "markdown",
   "metadata": {},
   "source": [
    "### Hot selling  items"
   ]
  },
  {
   "cell_type": "code",
   "execution_count": 15,
   "metadata": {},
   "outputs": [],
   "source": [
    "hot_items = df['item_size'].value_counts()[0:10]"
   ]
  },
  {
   "cell_type": "code",
   "execution_count": 16,
   "metadata": {},
   "outputs": [
    {
     "data": {
      "image/png": "[encoded data removed]",
      "text/plain": [
       "<Figure size 720x360 with 1 Axes>"
      ]
     },
     "metadata": {
      "needs_background": "light"
     },
     "output_type": "display_data"
    }
   ],
   "source": [
    "hot_items.plot.barh(figsize=(10,5)).invert_yaxis()"
   ]
  },
  {
   "cell_type": "code",
   "execution_count": 17,
   "metadata": {},
   "outputs": [
    {
     "data": {
      "text/plain": [
       "S49975_NS      404142\n",
       "AA2280_6812     18098\n",
       "S20274_6812     17711\n",
       "AA2286_6812     16753\n",
       "AA2287_6812     15897\n",
       "AA2281_6812     14685\n",
       "S20273_6812     14015\n",
       "CD8506_5        13847\n",
       "AA2279_6812     12028\n",
       "H08837_NS       11228\n",
       "Name: item_size, dtype: int64"
      ]
     },
     "execution_count": 17,
     "metadata": {},
     "output_type": "execute_result"
    }
   ],
   "source": [
    "hot_items"
   ]
  },
  {
   "cell_type": "markdown",
   "metadata": {},
   "source": [
    "### N° of sales Transactions"
   ]
  },
  {
   "cell_type": "code",
   "execution_count": 18,
   "metadata": {},
   "outputs": [
    {
     "data": {
      "text/plain": [
       "6570535"
      ]
     },
     "execution_count": 18,
     "metadata": {},
     "output_type": "execute_result"
    }
   ],
   "source": [
    "df[\"unique_transaction\"].nunique()"
   ]
  },
  {
   "cell_type": "code",
   "execution_count": 19,
   "metadata": {},
   "outputs": [
    {
     "name": "stdout",
     "output_type": "stream",
     "text": [
      "11034645\n"
     ]
    }
   ],
   "source": [
    "#Number of sales\n",
    "print(len(df.loc[df[\"net_amount\"]>0 ]))\n"
   ]
  },
  {
   "cell_type": "code",
   "execution_count": 20,
   "metadata": {},
   "outputs": [
    {
     "name": "stdout",
     "output_type": "stream",
     "text": [
      "737591\n"
     ]
    }
   ],
   "source": [
    "#Number of returns\n",
    "print(len(df.loc[df[\"net_amount\"]<0 ]))"
   ]
  },
  {
   "cell_type": "markdown",
   "metadata": {},
   "source": [
    "### N° of sales Transactions per store"
   ]
  },
  {
   "cell_type": "code",
   "execution_count": 21,
   "metadata": {},
   "outputs": [],
   "source": [
    "store_transactions = df.groupby(['store'])[['unique_transaction']].nunique().sort_values(['unique_transaction'],ascending=False)"
   ]
  },
  {
   "cell_type": "code",
   "execution_count": 22,
   "metadata": {},
   "outputs": [
    {
     "data": {
      "text/plain": [
       "<AxesSubplot:xlabel='store'>"
      ]
     },
     "execution_count": 22,
     "metadata": {},
     "output_type": "execute_result"
    },
    {
     "data": {
      "image/png": "[encoded data removed]",
      "text/plain": [
       "<Figure size 1440x360 with 1 Axes>"
      ]
     },
     "metadata": {
      "needs_background": "light"
     },
     "output_type": "display_data"
    }
   ],
   "source": [
    "store_transactions.plot.bar(figsize=(20,5))"
   ]
  },
  {
   "cell_type": "code",
   "execution_count": null,
   "metadata": {},
   "outputs": [],
   "source": []
  },
  {
   "cell_type": "code",
   "execution_count": null,
   "metadata": {},
   "outputs": [],
   "source": []
  },
  {
   "cell_type": "code",
   "execution_count": null,
   "metadata": {},
   "outputs": [],
   "source": []
  },
  {
   "cell_type": "markdown",
   "metadata": {},
   "source": [
    "### N° of items sold per store"
   ]
  },
  {
   "cell_type": "code",
   "execution_count": 23,
   "metadata": {},
   "outputs": [
    {
     "data": {
      "text/plain": [
       "CL307    802948\n",
       "CL310    764430\n",
       "CL144    729577\n",
       "CL312    490374\n",
       "CL311    461832\n",
       "CL202    453892\n",
       "CL105    335789\n",
       "CL306    324936\n",
       "CL308    310145\n",
       "CL118    305068\n",
       "Name: store, dtype: int64"
      ]
     },
     "execution_count": 23,
     "metadata": {},
     "output_type": "execute_result"
    }
   ],
   "source": [
    "df['store'].value_counts()[0:10]"
   ]
  },
  {
   "cell_type": "code",
   "execution_count": 24,
   "metadata": {},
   "outputs": [
    {
     "data": {
      "text/plain": [
       "<AxesSubplot:>"
      ]
     },
     "execution_count": 24,
     "metadata": {},
     "output_type": "execute_result"
    },
    {
     "data": {
      "image/png": "[encoded data removed]",
      "text/plain": [
       "<Figure size 1440x360 with 1 Axes>"
      ]
     },
     "metadata": {
      "needs_background": "light"
     },
     "output_type": "display_data"
    }
   ],
   "source": [
    "df['store'].value_counts().plot.bar(figsize=(20,5))"
   ]
  },
  {
   "cell_type": "code",
   "execution_count": null,
   "metadata": {},
   "outputs": [],
   "source": []
  },
  {
   "cell_type": "markdown",
   "metadata": {},
   "source": [
    "## Stores with higher sales (Net Amount)"
   ]
  },
  {
   "cell_type": "code",
   "execution_count": 25,
   "metadata": {},
   "outputs": [],
   "source": [
    "store_sales = df.groupby(['store'])[['net_amount']].agg('sum').sort_values(['net_amount'],ascending=False)"
   ]
  },
  {
   "cell_type": "code",
   "execution_count": 26,
   "metadata": {},
   "outputs": [
    {
     "data": {
      "text/plain": [
       "<AxesSubplot:xlabel='store'>"
      ]
     },
     "execution_count": 26,
     "metadata": {},
     "output_type": "execute_result"
    },
    {
     "data": {
      "image/png": "[encoded data removed]",
      "text/plain": [
       "<Figure size 1440x360 with 1 Axes>"
      ]
     },
     "metadata": {
      "needs_background": "light"
     },
     "output_type": "display_data"
    }
   ],
   "source": [
    "store_sales.plot.bar(figsize=(20,5))"
   ]
  },
  {
   "cell_type": "code",
   "execution_count": 75,
   "metadata": {},
   "outputs": [
    {
     "data": {
      "text/html": [
       "<div>\n",
       "<style scoped>\n",
       "    .dataframe tbody tr th:only-of-type {\n",
       "        vertical-align: middle;\n",
       "    }\n",
       "\n",
       "    .dataframe tbody tr th {\n",
       "        vertical-align: top;\n",
       "    }\n",
       "\n",
       "    .dataframe thead th {\n",
       "        text-align: right;\n",
       "    }\n",
       "</style>\n",
       "<table border=\"1\" class=\"dataframe\">\n",
       "  <thead>\n",
       "    <tr style=\"text-align: right;\">\n",
       "      <th></th>\n",
       "      <th>net_amount</th>\n",
       "    </tr>\n",
       "    <tr>\n",
       "      <th>store</th>\n",
       "      <th></th>\n",
       "    </tr>\n",
       "  </thead>\n",
       "  <tbody>\n",
       "    <tr>\n",
       "      <th>CL144</th>\n",
       "      <td>13200341816.00</td>\n",
       "    </tr>\n",
       "    <tr>\n",
       "      <th>CL307</th>\n",
       "      <td>11622081377.00</td>\n",
       "    </tr>\n",
       "    <tr>\n",
       "      <th>CL310</th>\n",
       "      <td>10880107624.00</td>\n",
       "    </tr>\n",
       "    <tr>\n",
       "      <th>CL312</th>\n",
       "      <td>6582225020.00</td>\n",
       "    </tr>\n",
       "    <tr>\n",
       "      <th>CL202</th>\n",
       "      <td>6563759982.00</td>\n",
       "    </tr>\n",
       "    <tr>\n",
       "      <th>...</th>\n",
       "      <td>...</td>\n",
       "    </tr>\n",
       "    <tr>\n",
       "      <th>CL187</th>\n",
       "      <td>94951793.00</td>\n",
       "    </tr>\n",
       "    <tr>\n",
       "      <th>CL317</th>\n",
       "      <td>39092144.00</td>\n",
       "    </tr>\n",
       "    <tr>\n",
       "      <th>CL906</th>\n",
       "      <td>2123348.00</td>\n",
       "    </tr>\n",
       "    <tr>\n",
       "      <th>*CL905</th>\n",
       "      <td>21373.00</td>\n",
       "    </tr>\n",
       "    <tr>\n",
       "      <th>CL903</th>\n",
       "      <td>5034.00</td>\n",
       "    </tr>\n",
       "  </tbody>\n",
       "</table>\n",
       "<p>78 rows × 1 columns</p>\n",
       "</div>"
      ],
      "text/plain": [
       "           net_amount\n",
       "store                \n",
       "CL144  13200341816.00\n",
       "CL307  11622081377.00\n",
       "CL310  10880107624.00\n",
       "CL312   6582225020.00\n",
       "CL202   6563759982.00\n",
       "...               ...\n",
       "CL187     94951793.00\n",
       "CL317     39092144.00\n",
       "CL906      2123348.00\n",
       "*CL905       21373.00\n",
       "CL903         5034.00\n",
       "\n",
       "[78 rows x 1 columns]"
      ]
     },
     "execution_count": 75,
     "metadata": {},
     "output_type": "execute_result"
    }
   ],
   "source": [
    "#To supress scientific notation\n",
    "pd.options.display.float_format = '{:.2f}'.format\n",
    "store_sales"
   ]
  },
  {
   "cell_type": "code",
   "execution_count": null,
   "metadata": {},
   "outputs": [],
   "source": [
    "\n",
    "\n"
   ]
  },
  {
   "cell_type": "markdown",
   "metadata": {},
   "source": [
    "## Bags per transaction"
   ]
  },
  {
   "cell_type": "code",
   "execution_count": 28,
   "metadata": {},
   "outputs": [],
   "source": [
    "sold_bags = len(df.loc[df['item'] == 'S49975'])"
   ]
  },
  {
   "cell_type": "code",
   "execution_count": 29,
   "metadata": {},
   "outputs": [],
   "source": [
    "transactions = df['unique_transaction'].nunique()\n"
   ]
  },
  {
   "cell_type": "code",
   "execution_count": 30,
   "metadata": {},
   "outputs": [
    {
     "data": {
      "text/plain": [
       "0.06150823334781719"
      ]
     },
     "execution_count": 30,
     "metadata": {},
     "output_type": "execute_result"
    }
   ],
   "source": [
    "sold_bags/transactions # maybe the sku of bags changed "
   ]
  },
  {
   "cell_type": "markdown",
   "metadata": {},
   "source": [
    "### Average net amount per transaction"
   ]
  },
  {
   "cell_type": "code",
   "execution_count": 31,
   "metadata": {},
   "outputs": [],
   "source": [
    "average_sale = df.groupby(['unique_transaction'])[['net_amount']].agg('mean').sort_values(['net_amount'],ascending=False)\n",
    "#average_sale"
   ]
  },
  {
   "cell_type": "code",
   "execution_count": 32,
   "metadata": {},
   "outputs": [],
   "source": [
    "total_average_sale = df.groupby(['unique_transaction'])[['net_amount']].agg('mean').sort_values(['net_amount'],ascending=False)\n",
    "#total_average_sale"
   ]
  },
  {
   "cell_type": "code",
   "execution_count": 33,
   "metadata": {},
   "outputs": [
    {
     "data": {
      "text/plain": [
       "net_amount   16714.10\n",
       "dtype: float64"
      ]
     },
     "execution_count": 33,
     "metadata": {},
     "output_type": "execute_result"
    }
   ],
   "source": [
    "total_average_sale.agg('mean')"
   ]
  },
  {
   "cell_type": "markdown",
   "metadata": {},
   "source": [
    "### Average item sold per transaction\n"
   ]
  },
  {
   "cell_type": "code",
   "execution_count": null,
   "metadata": {},
   "outputs": [],
   "source": []
  },
  {
   "cell_type": "markdown",
   "metadata": {},
   "source": [
    "Plot number of sales of a specific article vs time\n"
   ]
  },
  {
   "cell_type": "markdown",
   "metadata": {},
   "source": [
    "group by article by day"
   ]
  },
  {
   "cell_type": "code",
   "execution_count": 34,
   "metadata": {},
   "outputs": [],
   "source": [
    "articles_by_day = df.groupby(df['item_size'] == 'S49975_NS').count()"
   ]
  },
  {
   "cell_type": "code",
   "execution_count": 35,
   "metadata": {},
   "outputs": [
    {
     "data": {
      "text/html": [
       "<div>\n",
       "<style scoped>\n",
       "    .dataframe tbody tr th:only-of-type {\n",
       "        vertical-align: middle;\n",
       "    }\n",
       "\n",
       "    .dataframe tbody tr th {\n",
       "        vertical-align: top;\n",
       "    }\n",
       "\n",
       "    .dataframe thead th {\n",
       "        text-align: right;\n",
       "    }\n",
       "</style>\n",
       "<table border=\"1\" class=\"dataframe\">\n",
       "  <thead>\n",
       "    <tr style=\"text-align: right;\">\n",
       "      <th></th>\n",
       "      <th>store</th>\n",
       "      <th>pos</th>\n",
       "      <th>transaction</th>\n",
       "      <th>date</th>\n",
       "      <th>shifted_date</th>\n",
       "      <th>vat</th>\n",
       "      <th>currency</th>\n",
       "      <th>net_amount</th>\n",
       "      <th>vat_amount</th>\n",
       "      <th>item</th>\n",
       "      <th>size</th>\n",
       "      <th>item_size</th>\n",
       "      <th>unique_transaction</th>\n",
       "    </tr>\n",
       "    <tr>\n",
       "      <th>item_size</th>\n",
       "      <th></th>\n",
       "      <th></th>\n",
       "      <th></th>\n",
       "      <th></th>\n",
       "      <th></th>\n",
       "      <th></th>\n",
       "      <th></th>\n",
       "      <th></th>\n",
       "      <th></th>\n",
       "      <th></th>\n",
       "      <th></th>\n",
       "      <th></th>\n",
       "      <th></th>\n",
       "    </tr>\n",
       "  </thead>\n",
       "  <tbody>\n",
       "    <tr>\n",
       "      <th>False</th>\n",
       "      <td>11389586</td>\n",
       "      <td>11389586</td>\n",
       "      <td>11389586</td>\n",
       "      <td>11389586</td>\n",
       "      <td>0</td>\n",
       "      <td>11389586</td>\n",
       "      <td>11389586</td>\n",
       "      <td>11389586</td>\n",
       "      <td>11389586</td>\n",
       "      <td>11389586</td>\n",
       "      <td>11389586</td>\n",
       "      <td>11389586</td>\n",
       "      <td>11389586</td>\n",
       "    </tr>\n",
       "    <tr>\n",
       "      <th>True</th>\n",
       "      <td>404142</td>\n",
       "      <td>404142</td>\n",
       "      <td>404142</td>\n",
       "      <td>404142</td>\n",
       "      <td>0</td>\n",
       "      <td>404142</td>\n",
       "      <td>404142</td>\n",
       "      <td>404142</td>\n",
       "      <td>404142</td>\n",
       "      <td>404142</td>\n",
       "      <td>404142</td>\n",
       "      <td>404142</td>\n",
       "      <td>404142</td>\n",
       "    </tr>\n",
       "  </tbody>\n",
       "</table>\n",
       "</div>"
      ],
      "text/plain": [
       "              store       pos  transaction      date  shifted_date       vat  \\\n",
       "item_size                                                                      \n",
       "False      11389586  11389586     11389586  11389586             0  11389586   \n",
       "True         404142    404142       404142    404142             0    404142   \n",
       "\n",
       "           currency  net_amount  vat_amount      item      size  item_size  \\\n",
       "item_size                                                                    \n",
       "False      11389586    11389586    11389586  11389586  11389586   11389586   \n",
       "True         404142      404142      404142    404142    404142     404142   \n",
       "\n",
       "           unique_transaction  \n",
       "item_size                      \n",
       "False                11389586  \n",
       "True                   404142  "
      ]
     },
     "execution_count": 35,
     "metadata": {},
     "output_type": "execute_result"
    }
   ],
   "source": [
    "articles_by_day"
   ]
  },
  {
   "cell_type": "code",
   "execution_count": 36,
   "metadata": {},
   "outputs": [],
   "source": [
    "counts_S49975_NS = df[df['item_size'].isin(['S49975_NS'])].groupby('date').sum()"
   ]
  },
  {
   "cell_type": "code",
   "execution_count": 37,
   "metadata": {},
   "outputs": [
    {
     "data": {
      "text/plain": [
       "<AxesSubplot:xlabel='date'>"
      ]
     },
     "execution_count": 37,
     "metadata": {},
     "output_type": "execute_result"
    },
    {
     "data": {
      "image/png": "[encoded data removed]",
      "text/plain": [
       "<Figure size 1440x360 with 1 Axes>"
      ]
     },
     "metadata": {
      "needs_background": "light"
     },
     "output_type": "display_data"
    }
   ],
   "source": [
    "counts_S49975_NS.plot.bar(figsize=(20,5))"
   ]
  },
  {
   "cell_type": "code",
   "execution_count": 38,
   "metadata": {},
   "outputs": [
    {
     "data": {
      "text/html": [
       "<div>\n",
       "<style scoped>\n",
       "    .dataframe tbody tr th:only-of-type {\n",
       "        vertical-align: middle;\n",
       "    }\n",
       "\n",
       "    .dataframe tbody tr th {\n",
       "        vertical-align: top;\n",
       "    }\n",
       "\n",
       "    .dataframe thead th {\n",
       "        text-align: right;\n",
       "    }\n",
       "</style>\n",
       "<table border=\"1\" class=\"dataframe\">\n",
       "  <thead>\n",
       "    <tr style=\"text-align: right;\">\n",
       "      <th></th>\n",
       "      <th>shifted_date</th>\n",
       "      <th>vat</th>\n",
       "      <th>net_amount</th>\n",
       "      <th>vat_amount</th>\n",
       "    </tr>\n",
       "    <tr>\n",
       "      <th>date</th>\n",
       "      <th></th>\n",
       "      <th></th>\n",
       "      <th></th>\n",
       "      <th></th>\n",
       "    </tr>\n",
       "  </thead>\n",
       "  <tbody>\n",
       "    <tr>\n",
       "      <th>2020-11-19</th>\n",
       "      <td>0.00</td>\n",
       "      <td>19</td>\n",
       "      <td>210.00</td>\n",
       "      <td>40.00</td>\n",
       "    </tr>\n",
       "    <tr>\n",
       "      <th>2021-03-15</th>\n",
       "      <td>0.00</td>\n",
       "      <td>19</td>\n",
       "      <td>252.00</td>\n",
       "      <td>48.00</td>\n",
       "    </tr>\n",
       "    <tr>\n",
       "      <th>2021-05-31</th>\n",
       "      <td>0.00</td>\n",
       "      <td>133</td>\n",
       "      <td>1764.00</td>\n",
       "      <td>336.00</td>\n",
       "    </tr>\n",
       "    <tr>\n",
       "      <th>2021-06-01</th>\n",
       "      <td>0.00</td>\n",
       "      <td>285</td>\n",
       "      <td>3780.00</td>\n",
       "      <td>720.00</td>\n",
       "    </tr>\n",
       "    <tr>\n",
       "      <th>2021-06-02</th>\n",
       "      <td>0.00</td>\n",
       "      <td>190</td>\n",
       "      <td>2520.00</td>\n",
       "      <td>480.00</td>\n",
       "    </tr>\n",
       "    <tr>\n",
       "      <th>...</th>\n",
       "      <td>...</td>\n",
       "      <td>...</td>\n",
       "      <td>...</td>\n",
       "      <td>...</td>\n",
       "    </tr>\n",
       "    <tr>\n",
       "      <th>2021-12-27</th>\n",
       "      <td>0.00</td>\n",
       "      <td>26657</td>\n",
       "      <td>370428.00</td>\n",
       "      <td>70557.00</td>\n",
       "    </tr>\n",
       "    <tr>\n",
       "      <th>2021-12-28</th>\n",
       "      <td>0.00</td>\n",
       "      <td>27151</td>\n",
       "      <td>374875.00</td>\n",
       "      <td>71405.00</td>\n",
       "    </tr>\n",
       "    <tr>\n",
       "      <th>2021-12-29</th>\n",
       "      <td>0.00</td>\n",
       "      <td>30514</td>\n",
       "      <td>422112.00</td>\n",
       "      <td>80403.00</td>\n",
       "    </tr>\n",
       "    <tr>\n",
       "      <th>2021-12-30</th>\n",
       "      <td>0.00</td>\n",
       "      <td>41572</td>\n",
       "      <td>568697.00</td>\n",
       "      <td>108328.00</td>\n",
       "    </tr>\n",
       "    <tr>\n",
       "      <th>2021-12-31</th>\n",
       "      <td>0.00</td>\n",
       "      <td>45961</td>\n",
       "      <td>623407.00</td>\n",
       "      <td>118748.00</td>\n",
       "    </tr>\n",
       "  </tbody>\n",
       "</table>\n",
       "<p>192 rows × 4 columns</p>\n",
       "</div>"
      ],
      "text/plain": [
       "            shifted_date    vat  net_amount  vat_amount\n",
       "date                                                   \n",
       "2020-11-19          0.00     19      210.00       40.00\n",
       "2021-03-15          0.00     19      252.00       48.00\n",
       "2021-05-31          0.00    133     1764.00      336.00\n",
       "2021-06-01          0.00    285     3780.00      720.00\n",
       "2021-06-02          0.00    190     2520.00      480.00\n",
       "...                  ...    ...         ...         ...\n",
       "2021-12-27          0.00  26657   370428.00    70557.00\n",
       "2021-12-28          0.00  27151   374875.00    71405.00\n",
       "2021-12-29          0.00  30514   422112.00    80403.00\n",
       "2021-12-30          0.00  41572   568697.00   108328.00\n",
       "2021-12-31          0.00  45961   623407.00   118748.00\n",
       "\n",
       "[192 rows x 4 columns]"
      ]
     },
     "execution_count": 38,
     "metadata": {},
     "output_type": "execute_result"
    }
   ],
   "source": [
    "counts_S49975_NS"
   ]
  },
  {
   "cell_type": "code",
   "execution_count": 39,
   "metadata": {},
   "outputs": [],
   "source": [
    "#store_sales = df.groupby(['date'].dt.year)[['net_amount']].agg('sum').sort_values(['net_amount'],ascending=False)"
   ]
  },
  {
   "cell_type": "markdown",
   "metadata": {},
   "source": [
    "### Total sales by year"
   ]
  },
  {
   "cell_type": "code",
   "execution_count": 40,
   "metadata": {},
   "outputs": [],
   "source": [
    "store_sales_year=df.groupby(df.date.dt.year)[['net_amount']].agg('sum').sort_values(['date'],ascending=True)"
   ]
  },
  {
   "cell_type": "code",
   "execution_count": 41,
   "metadata": {},
   "outputs": [
    {
     "data": {
      "text/plain": [
       "<AxesSubplot:xlabel='date'>"
      ]
     },
     "execution_count": 41,
     "metadata": {},
     "output_type": "execute_result"
    },
    {
     "data": {
      "image/png": "[encoded data removed]",
      "text/plain": [
       "<Figure size 1440x360 with 1 Axes>"
      ]
     },
     "metadata": {
      "needs_background": "light"
     },
     "output_type": "display_data"
    }
   ],
   "source": [
    "store_sales_year.plot.bar(figsize=(20,5))"
   ]
  },
  {
   "cell_type": "code",
   "execution_count": 42,
   "metadata": {},
   "outputs": [
    {
     "data": {
      "text/html": [
       "<div>\n",
       "<style scoped>\n",
       "    .dataframe tbody tr th:only-of-type {\n",
       "        vertical-align: middle;\n",
       "    }\n",
       "\n",
       "    .dataframe tbody tr th {\n",
       "        vertical-align: top;\n",
       "    }\n",
       "\n",
       "    .dataframe thead th {\n",
       "        text-align: right;\n",
       "    }\n",
       "</style>\n",
       "<table border=\"1\" class=\"dataframe\">\n",
       "  <thead>\n",
       "    <tr style=\"text-align: right;\">\n",
       "      <th></th>\n",
       "      <th>net_amount</th>\n",
       "    </tr>\n",
       "    <tr>\n",
       "      <th>date</th>\n",
       "      <th></th>\n",
       "    </tr>\n",
       "  </thead>\n",
       "  <tbody>\n",
       "    <tr>\n",
       "      <th>2018</th>\n",
       "      <td>56075797340.00</td>\n",
       "    </tr>\n",
       "    <tr>\n",
       "      <th>2019</th>\n",
       "      <td>49640444241.00</td>\n",
       "    </tr>\n",
       "    <tr>\n",
       "      <th>2020</th>\n",
       "      <td>33301871021.00</td>\n",
       "    </tr>\n",
       "    <tr>\n",
       "      <th>2021</th>\n",
       "      <td>56968529768.00</td>\n",
       "    </tr>\n",
       "  </tbody>\n",
       "</table>\n",
       "</div>"
      ],
      "text/plain": [
       "         net_amount\n",
       "date               \n",
       "2018 56075797340.00\n",
       "2019 49640444241.00\n",
       "2020 33301871021.00\n",
       "2021 56968529768.00"
      ]
     },
     "execution_count": 42,
     "metadata": {},
     "output_type": "execute_result"
    }
   ],
   "source": [
    "store_sales_year"
   ]
  },
  {
   "cell_type": "markdown",
   "metadata": {},
   "source": [
    "### Total sales by month\n"
   ]
  },
  {
   "cell_type": "code",
   "execution_count": 43,
   "metadata": {},
   "outputs": [],
   "source": [
    "store_sales_month=df.groupby(df.date.dt.month)[['net_amount']].agg('sum').sort_values(['date'],ascending=True)"
   ]
  },
  {
   "cell_type": "code",
   "execution_count": 44,
   "metadata": {},
   "outputs": [
    {
     "data": {
      "text/plain": [
       "<AxesSubplot:xlabel='date'>"
      ]
     },
     "execution_count": 44,
     "metadata": {},
     "output_type": "execute_result"
    },
    {
     "data": {
      "image/png": "[encoded data removed]",
      "text/plain": [
       "<Figure size 1440x360 with 1 Axes>"
      ]
     },
     "metadata": {
      "needs_background": "light"
     },
     "output_type": "display_data"
    }
   ],
   "source": [
    "store_sales_month.plot.bar(figsize=(20,5))"
   ]
  },
  {
   "cell_type": "code",
   "execution_count": 45,
   "metadata": {},
   "outputs": [
    {
     "data": {
      "text/html": [
       "<div>\n",
       "<style scoped>\n",
       "    .dataframe tbody tr th:only-of-type {\n",
       "        vertical-align: middle;\n",
       "    }\n",
       "\n",
       "    .dataframe tbody tr th {\n",
       "        vertical-align: top;\n",
       "    }\n",
       "\n",
       "    .dataframe thead th {\n",
       "        text-align: right;\n",
       "    }\n",
       "</style>\n",
       "<table border=\"1\" class=\"dataframe\">\n",
       "  <thead>\n",
       "    <tr style=\"text-align: right;\">\n",
       "      <th></th>\n",
       "      <th>net_amount</th>\n",
       "    </tr>\n",
       "    <tr>\n",
       "      <th>date</th>\n",
       "      <th></th>\n",
       "    </tr>\n",
       "  </thead>\n",
       "  <tbody>\n",
       "    <tr>\n",
       "      <th>1</th>\n",
       "      <td>17308308211.00</td>\n",
       "    </tr>\n",
       "    <tr>\n",
       "      <th>2</th>\n",
       "      <td>17485261257.00</td>\n",
       "    </tr>\n",
       "    <tr>\n",
       "      <th>3</th>\n",
       "      <td>14495535694.00</td>\n",
       "    </tr>\n",
       "    <tr>\n",
       "      <th>4</th>\n",
       "      <td>8191383047.00</td>\n",
       "    </tr>\n",
       "    <tr>\n",
       "      <th>5</th>\n",
       "      <td>9519748863.00</td>\n",
       "    </tr>\n",
       "    <tr>\n",
       "      <th>6</th>\n",
       "      <td>10105807047.00</td>\n",
       "    </tr>\n",
       "    <tr>\n",
       "      <th>7</th>\n",
       "      <td>14641602427.00</td>\n",
       "    </tr>\n",
       "    <tr>\n",
       "      <th>8</th>\n",
       "      <td>15457303153.00</td>\n",
       "    </tr>\n",
       "    <tr>\n",
       "      <th>9</th>\n",
       "      <td>18550996065.00</td>\n",
       "    </tr>\n",
       "    <tr>\n",
       "      <th>10</th>\n",
       "      <td>17083820800.00</td>\n",
       "    </tr>\n",
       "    <tr>\n",
       "      <th>11</th>\n",
       "      <td>20411231516.00</td>\n",
       "    </tr>\n",
       "    <tr>\n",
       "      <th>12</th>\n",
       "      <td>32735644290.00</td>\n",
       "    </tr>\n",
       "  </tbody>\n",
       "</table>\n",
       "</div>"
      ],
      "text/plain": [
       "         net_amount\n",
       "date               \n",
       "1    17308308211.00\n",
       "2    17485261257.00\n",
       "3    14495535694.00\n",
       "4     8191383047.00\n",
       "5     9519748863.00\n",
       "6    10105807047.00\n",
       "7    14641602427.00\n",
       "8    15457303153.00\n",
       "9    18550996065.00\n",
       "10   17083820800.00\n",
       "11   20411231516.00\n",
       "12   32735644290.00"
      ]
     },
     "execution_count": 45,
     "metadata": {},
     "output_type": "execute_result"
    }
   ],
   "source": [
    "store_sales_month"
   ]
  },
  {
   "cell_type": "markdown",
   "metadata": {},
   "source": [
    "### Transactions by month"
   ]
  },
  {
   "cell_type": "code",
   "execution_count": 76,
   "metadata": {},
   "outputs": [
    {
     "data": {
      "text/plain": [
       "<AxesSubplot:xlabel='date'>"
      ]
     },
     "execution_count": 76,
     "metadata": {},
     "output_type": "execute_result"
    },
    {
     "data": {
      "image/png": "[encoded data removed]",
      "text/plain": [
       "<Figure size 1440x360 with 1 Axes>"
      ]
     },
     "metadata": {
      "needs_background": "light"
     },
     "output_type": "display_data"
    }
   ],
   "source": [
    "df = df.groupby(df['date'].dt.to_period('M')).count()\n",
    "df = df.resample('M').asfreq().fillna(0)\n",
    "df.unique_transaction.plot(figsize=(20,5),kind='bar')"
   ]
  },
  {
   "cell_type": "markdown",
   "metadata": {},
   "source": [
    "### Sales by month and year"
   ]
  },
  {
   "cell_type": "code",
   "execution_count": 46,
   "metadata": {},
   "outputs": [],
   "source": [
    "\n",
    "df = df.groupby(df['date'].dt.to_period('M')).sum()\n",
    "df = df.resample('M').asfreq().fillna(0)"
   ]
  },
  {
   "cell_type": "code",
   "execution_count": 47,
   "metadata": {},
   "outputs": [
    {
     "data": {
      "text/plain": [
       "<AxesSubplot:xlabel='date'>"
      ]
     },
     "execution_count": 47,
     "metadata": {},
     "output_type": "execute_result"
    },
    {
     "data": {
      "image/png": "[encoded data removed]",
      "text/plain": [
       "<Figure size 1440x360 with 1 Axes>"
      ]
     },
     "metadata": {
      "needs_background": "light"
     },
     "output_type": "display_data"
    }
   ],
   "source": [
    "df.net_amount.plot(figsize=(20,5),kind='bar')\n"
   ]
  },
  {
   "cell_type": "markdown",
   "metadata": {},
   "source": []
  },
  {
   "cell_type": "markdown",
   "metadata": {},
   "source": [
    "\n"
   ]
  },
  {
   "cell_type": "code",
   "execution_count": 48,
   "metadata": {},
   "outputs": [
    {
     "data": {
      "text/plain": [
       "date\n",
       "2018-01   5370389293.00\n",
       "2018-02   4866856684.00\n",
       "2018-03   4870822254.00\n",
       "2018-04   4581535920.00\n",
       "2018-05   3567313725.00\n",
       "2018-06   4014537551.00\n",
       "2018-07   4415839587.00\n",
       "2018-08   3880818799.00\n",
       "2018-09   4785892552.00\n",
       "2018-10   4341642567.00\n",
       "2018-11   3649487949.00\n",
       "2018-12   7730660459.00\n",
       "2019-01   4072905576.00\n",
       "2019-02   3645964186.00\n",
       "2019-03   4533252012.00\n",
       "2019-04   3424723612.00\n",
       "2019-05   3065112239.00\n",
       "2019-06   3275503981.00\n",
       "2019-07   3651192143.00\n",
       "2019-08   3707659492.00\n",
       "2019-09   4201674144.00\n",
       "2019-10   2481415238.00\n",
       "2019-11   6440221696.00\n",
       "2019-12   7140819922.00\n",
       "2020-01   3550445650.00\n",
       "2020-02   3999589890.00\n",
       "2020-03   2112108077.00\n",
       "2020-04            0.00\n",
       "2020-05     60983348.00\n",
       "2020-06    215950361.00\n",
       "2020-07    277653567.00\n",
       "2020-08   1104449658.00\n",
       "2020-09   3376335024.00\n",
       "2020-10   4507319478.00\n",
       "2020-11   5213103367.00\n",
       "2020-12   8883932601.00\n",
       "2021-01   4314567692.00\n",
       "2021-02   4972850497.00\n",
       "2021-03   2979353351.00\n",
       "2021-04    185123515.00\n",
       "2021-05   2826339551.00\n",
       "2021-06   2599815154.00\n",
       "2021-07   6296917130.00\n",
       "2021-08   6764375204.00\n",
       "2021-09   6187094345.00\n",
       "2021-10   5753443517.00\n",
       "2021-11   5108418504.00\n",
       "2021-12   8980231308.00\n",
       "Freq: M, Name: net_amount, dtype: float64"
      ]
     },
     "execution_count": 48,
     "metadata": {},
     "output_type": "execute_result"
    }
   ],
   "source": [
    "df.net_amount\n"
   ]
  },
  {
   "cell_type": "markdown",
   "metadata": {},
   "source": [
    "transactions by month"
   ]
  },
  {
   "cell_type": "code",
   "execution_count": 51,
   "metadata": {},
   "outputs": [
    {
     "data": {
      "text/plain": [
       "6570535"
      ]
     },
     "execution_count": 51,
     "metadata": {},
     "output_type": "execute_result"
    }
   ],
   "source": [
    "transactions\n",
    "transactions = df['unique_transaction'].nunique()"
   ]
  },
  {
   "cell_type": "code",
   "execution_count": 64,
   "metadata": {},
   "outputs": [
    {
     "data": {
      "text/plain": [
       "shifted_date    float64\n",
       "vat             float64\n",
       "net_amount      float64\n",
       "vat_amount      float64\n",
       "dtype: object"
      ]
     },
     "execution_count": 64,
     "metadata": {},
     "output_type": "execute_result"
    }
   ],
   "source": [
    "df.dtypes"
   ]
  },
  {
   "cell_type": "raw",
   "metadata": {},
   "source": []
  },
  {
   "cell_type": "code",
   "execution_count": 56,
   "metadata": {},
   "outputs": [
    {
     "ename": "AttributeError",
     "evalue": "'DataFrame' object has no attribute 'unique_transaction'",
     "output_type": "error",
     "traceback": [
      "\u001b[1;31m---------------------------------------------------------------------------\u001b[0m",
      "\u001b[1;31mAttributeError\u001b[0m                            Traceback (most recent call last)",
      "\u001b[1;32m<ipython-input-56-b8166356b0d4>\u001b[0m in \u001b[0;36m<module>\u001b[1;34m\u001b[0m\n\u001b[1;32m----> 1\u001b[1;33m \u001b[0mdf\u001b[0m\u001b[1;33m.\u001b[0m\u001b[0munique_transaction\u001b[0m\u001b[1;33m.\u001b[0m\u001b[0mplot\u001b[0m\u001b[1;33m(\u001b[0m\u001b[0mfigsize\u001b[0m\u001b[1;33m=\u001b[0m\u001b[1;33m(\u001b[0m\u001b[1;36m20\u001b[0m\u001b[1;33m,\u001b[0m\u001b[1;36m5\u001b[0m\u001b[1;33m)\u001b[0m\u001b[1;33m,\u001b[0m\u001b[0mkind\u001b[0m\u001b[1;33m=\u001b[0m\u001b[1;34m'bar'\u001b[0m\u001b[1;33m)\u001b[0m\u001b[1;33m\u001b[0m\u001b[1;33m\u001b[0m\u001b[0m\n\u001b[0m",
      "\u001b[1;32m~\\anaconda3\\lib\\site-packages\\pandas\\core\\generic.py\u001b[0m in \u001b[0;36m__getattr__\u001b[1;34m(self, name)\u001b[0m\n\u001b[0;32m   5137\u001b[0m             \u001b[1;32mif\u001b[0m \u001b[0mself\u001b[0m\u001b[1;33m.\u001b[0m\u001b[0m_info_axis\u001b[0m\u001b[1;33m.\u001b[0m\u001b[0m_can_hold_identifiers_and_holds_name\u001b[0m\u001b[1;33m(\u001b[0m\u001b[0mname\u001b[0m\u001b[1;33m)\u001b[0m\u001b[1;33m:\u001b[0m\u001b[1;33m\u001b[0m\u001b[1;33m\u001b[0m\u001b[0m\n\u001b[0;32m   5138\u001b[0m                 \u001b[1;32mreturn\u001b[0m \u001b[0mself\u001b[0m\u001b[1;33m[\u001b[0m\u001b[0mname\u001b[0m\u001b[1;33m]\u001b[0m\u001b[1;33m\u001b[0m\u001b[1;33m\u001b[0m\u001b[0m\n\u001b[1;32m-> 5139\u001b[1;33m             \u001b[1;32mreturn\u001b[0m \u001b[0mobject\u001b[0m\u001b[1;33m.\u001b[0m\u001b[0m__getattribute__\u001b[0m\u001b[1;33m(\u001b[0m\u001b[0mself\u001b[0m\u001b[1;33m,\u001b[0m \u001b[0mname\u001b[0m\u001b[1;33m)\u001b[0m\u001b[1;33m\u001b[0m\u001b[1;33m\u001b[0m\u001b[0m\n\u001b[0m\u001b[0;32m   5140\u001b[0m \u001b[1;33m\u001b[0m\u001b[0m\n\u001b[0;32m   5141\u001b[0m     \u001b[1;32mdef\u001b[0m \u001b[0m__setattr__\u001b[0m\u001b[1;33m(\u001b[0m\u001b[0mself\u001b[0m\u001b[1;33m,\u001b[0m \u001b[0mname\u001b[0m\u001b[1;33m:\u001b[0m \u001b[0mstr\u001b[0m\u001b[1;33m,\u001b[0m \u001b[0mvalue\u001b[0m\u001b[1;33m)\u001b[0m \u001b[1;33m->\u001b[0m \u001b[1;32mNone\u001b[0m\u001b[1;33m:\u001b[0m\u001b[1;33m\u001b[0m\u001b[1;33m\u001b[0m\u001b[0m\n",
      "\u001b[1;31mAttributeError\u001b[0m: 'DataFrame' object has no attribute 'unique_transaction'"
     ]
    }
   ],
   "source": []
  },
  {
   "cell_type": "code",
   "execution_count": null,
   "metadata": {},
   "outputs": [],
   "source": []
  }
 ],
 "metadata": {
  "kernelspec": {
   "display_name": "Python 3",
   "language": "python",
   "name": "python3"
  },
  "language_info": {
   "codemirror_mode": {
    "name": "ipython",
    "version": 3
   },
   "file_extension": ".py",
   "mimetype": "text/x-python",
   "name": "python",
   "nbconvert_exporter": "python",
   "pygments_lexer": "ipython3",
   "version": "3.8.5"
  }
 },
 "nbformat": 4,
 "nbformat_minor": 5
}
